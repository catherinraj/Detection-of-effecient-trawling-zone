{
 "cells": [
  {
   "cell_type": "markdown",
   "metadata": {
    "collapsed": true
   },
   "source": [
    "# Potential Fish Zone Identification"
   ]
  },
  {
   "cell_type": "code",
   "execution_count": null,
   "metadata": {},
   "outputs": [
    {
     "ename": "",
     "evalue": "",
     "output_type": "error",
     "traceback": [
      "\u001b[1;31mRunning cells with 'c:\\Users\\ELCOT\\anaconda3.9\\python.exe' requires the ipykernel package.\n",
      "\u001b[1;31mRun the following command to install 'ipykernel' into the Python environment. \n",
      "\u001b[1;31mCommand: 'conda install -p c:\\Users\\ELCOT\\anaconda3.9 ipykernel --update-deps --force-reinstall'"
     ]
    }
   ],
   "source": [
    "import pandas as pd\n",
    "import numpy as np\n",
    "import matplotlib.pyplot as plt\n",
    "import seaborn as sbn\n",
    "%matplotlib inline\n",
    "np.random.seed(40)"
   ]
  },
  {
   "cell_type": "code",
   "execution_count": 7,
   "metadata": {},
   "outputs": [
    {
     "data": {
      "text/plain": [
       "'\\nSea Surface Temperature, Chlorophyll, \\nRelative Humidity, Sea Level Pressure, Air Temperature, Total Cloudiness and Total Fish catch data.\\n\\n'"
      ]
     },
     "execution_count": 7,
     "metadata": {},
     "output_type": "execute_result"
    }
   ],
   "source": [
    "'''\n",
    "Sea Surface Temperature, Chlorophyll, \n",
    "Relative Humidity, Sea Level Pressure, Air Temperature, Total Cloudiness and Total Fish catch data.\n",
    "\n",
    "'''"
   ]
  },
  {
   "cell_type": "markdown",
   "metadata": {},
   "source": [
    "# Remove year and Month and Label"
   ]
  },
  {
   "cell_type": "code",
   "execution_count": 8,
   "metadata": {},
   "outputs": [
    {
     "data": {
      "text/html": [
       "<div>\n",
       "<style scoped>\n",
       "    .dataframe tbody tr th:only-of-type {\n",
       "        vertical-align: middle;\n",
       "    }\n",
       "\n",
       "    .dataframe tbody tr th {\n",
       "        vertical-align: top;\n",
       "    }\n",
       "\n",
       "    .dataframe thead th {\n",
       "        text-align: right;\n",
       "    }\n",
       "</style>\n",
       "<table border=\"1\" class=\"dataframe\">\n",
       "  <thead>\n",
       "    <tr style=\"text-align: right;\">\n",
       "      <th></th>\n",
       "      <th>SST</th>\n",
       "      <th>SSC</th>\n",
       "      <th>AT</th>\n",
       "      <th>RH</th>\n",
       "      <th>SLP</th>\n",
       "      <th>TC</th>\n",
       "      <th>TOTALOIL</th>\n",
       "    </tr>\n",
       "  </thead>\n",
       "  <tbody>\n",
       "    <tr>\n",
       "      <th>0</th>\n",
       "      <td>28.659535</td>\n",
       "      <td>0.24</td>\n",
       "      <td>27.927021</td>\n",
       "      <td>76.067391</td>\n",
       "      <td>1013.386250</td>\n",
       "      <td>3.438298</td>\n",
       "      <td>48131.725</td>\n",
       "    </tr>\n",
       "    <tr>\n",
       "      <th>1</th>\n",
       "      <td>28.506889</td>\n",
       "      <td>0.19</td>\n",
       "      <td>28.140408</td>\n",
       "      <td>74.979592</td>\n",
       "      <td>1012.342449</td>\n",
       "      <td>2.791837</td>\n",
       "      <td>20158.942</td>\n",
       "    </tr>\n",
       "    <tr>\n",
       "      <th>2</th>\n",
       "      <td>29.359070</td>\n",
       "      <td>0.18</td>\n",
       "      <td>28.922500</td>\n",
       "      <td>76.359574</td>\n",
       "      <td>1012.280417</td>\n",
       "      <td>3.511111</td>\n",
       "      <td>33400.703</td>\n",
       "    </tr>\n",
       "    <tr>\n",
       "      <th>3</th>\n",
       "      <td>30.385854</td>\n",
       "      <td>0.26</td>\n",
       "      <td>29.801250</td>\n",
       "      <td>78.610417</td>\n",
       "      <td>1009.744792</td>\n",
       "      <td>4.110638</td>\n",
       "      <td>7268.411</td>\n",
       "    </tr>\n",
       "    <tr>\n",
       "      <th>4</th>\n",
       "      <td>30.749362</td>\n",
       "      <td>0.24</td>\n",
       "      <td>30.292000</td>\n",
       "      <td>77.500000</td>\n",
       "      <td>1008.289600</td>\n",
       "      <td>4.424000</td>\n",
       "      <td>16186.259</td>\n",
       "    </tr>\n",
       "    <tr>\n",
       "      <th>...</th>\n",
       "      <td>...</td>\n",
       "      <td>...</td>\n",
       "      <td>...</td>\n",
       "      <td>...</td>\n",
       "      <td>...</td>\n",
       "      <td>...</td>\n",
       "      <td>...</td>\n",
       "    </tr>\n",
       "    <tr>\n",
       "      <th>86</th>\n",
       "      <td>NaN</td>\n",
       "      <td>NaN</td>\n",
       "      <td>NaN</td>\n",
       "      <td>NaN</td>\n",
       "      <td>NaN</td>\n",
       "      <td>NaN</td>\n",
       "      <td>NaN</td>\n",
       "    </tr>\n",
       "    <tr>\n",
       "      <th>87</th>\n",
       "      <td>NaN</td>\n",
       "      <td>NaN</td>\n",
       "      <td>NaN</td>\n",
       "      <td>NaN</td>\n",
       "      <td>NaN</td>\n",
       "      <td>NaN</td>\n",
       "      <td>NaN</td>\n",
       "    </tr>\n",
       "    <tr>\n",
       "      <th>88</th>\n",
       "      <td>NaN</td>\n",
       "      <td>NaN</td>\n",
       "      <td>NaN</td>\n",
       "      <td>NaN</td>\n",
       "      <td>NaN</td>\n",
       "      <td>NaN</td>\n",
       "      <td>NaN</td>\n",
       "    </tr>\n",
       "    <tr>\n",
       "      <th>89</th>\n",
       "      <td>NaN</td>\n",
       "      <td>NaN</td>\n",
       "      <td>NaN</td>\n",
       "      <td>NaN</td>\n",
       "      <td>NaN</td>\n",
       "      <td>NaN</td>\n",
       "      <td>NaN</td>\n",
       "    </tr>\n",
       "    <tr>\n",
       "      <th>90</th>\n",
       "      <td>NaN</td>\n",
       "      <td>NaN</td>\n",
       "      <td>NaN</td>\n",
       "      <td>NaN</td>\n",
       "      <td>NaN</td>\n",
       "      <td>NaN</td>\n",
       "      <td>NaN</td>\n",
       "    </tr>\n",
       "  </tbody>\n",
       "</table>\n",
       "<p>91 rows × 7 columns</p>\n",
       "</div>"
      ],
      "text/plain": [
       "          SST   SSC         AT         RH          SLP        TC   TOTALOIL\n",
       "0   28.659535  0.24  27.927021  76.067391  1013.386250  3.438298  48131.725\n",
       "1   28.506889  0.19  28.140408  74.979592  1012.342449  2.791837  20158.942\n",
       "2   29.359070  0.18  28.922500  76.359574  1012.280417  3.511111  33400.703\n",
       "3   30.385854  0.26  29.801250  78.610417  1009.744792  4.110638   7268.411\n",
       "4   30.749362  0.24  30.292000  77.500000  1008.289600  4.424000  16186.259\n",
       "..        ...   ...        ...        ...          ...       ...        ...\n",
       "86        NaN   NaN        NaN        NaN          NaN       NaN        NaN\n",
       "87        NaN   NaN        NaN        NaN          NaN       NaN        NaN\n",
       "88        NaN   NaN        NaN        NaN          NaN       NaN        NaN\n",
       "89        NaN   NaN        NaN        NaN          NaN       NaN        NaN\n",
       "90        NaN   NaN        NaN        NaN          NaN       NaN        NaN\n",
       "\n",
       "[91 rows x 7 columns]"
      ]
     },
     "execution_count": 8,
     "metadata": {},
     "output_type": "execute_result"
    }
   ],
   "source": [
    "df =  td[['SST', 'SSC', 'AT', 'RH', 'SLP', 'TC', 'TOTALOIL']]\n",
    "df"
   ]
  },
  {
   "cell_type": "markdown",
   "metadata": {},
   "source": [
    "# Shuffle the dataset and apply interpolate method"
   ]
  },
  {
   "cell_type": "code",
   "execution_count": 9,
   "metadata": {},
   "outputs": [],
   "source": [
    "df = df.sample(frac=1).reset_index(drop=True)"
   ]
  },
  {
   "cell_type": "code",
   "execution_count": 10,
   "metadata": {},
   "outputs": [
    {
     "ename": "ImportError",
     "evalue": "Missing optional dependency 'scipy'. cubic interpolation requires SciPy. Use pip or conda to install scipy.",
     "output_type": "error",
     "traceback": [
      "\u001b[1;31m---------------------------------------------------------------------------\u001b[0m",
      "\u001b[1;31mModuleNotFoundError\u001b[0m                       Traceback (most recent call last)",
      "File \u001b[1;32mc:\\Python\\Python3.8.5\\lib\\site-packages\\pandas\\compat\\_optional.py:142\u001b[0m, in \u001b[0;36mimport_optional_dependency\u001b[1;34m(name, extra, errors, min_version)\u001b[0m\n\u001b[0;32m    141\u001b[0m \u001b[39mtry\u001b[39;00m:\n\u001b[1;32m--> 142\u001b[0m     module \u001b[39m=\u001b[39m importlib\u001b[39m.\u001b[39;49mimport_module(name)\n\u001b[0;32m    143\u001b[0m \u001b[39mexcept\u001b[39;00m \u001b[39mImportError\u001b[39;00m:\n",
      "File \u001b[1;32mc:\\Python\\Python3.8.5\\lib\\importlib\\__init__.py:127\u001b[0m, in \u001b[0;36mimport_module\u001b[1;34m(name, package)\u001b[0m\n\u001b[0;32m    126\u001b[0m         level \u001b[39m+\u001b[39m\u001b[39m=\u001b[39m \u001b[39m1\u001b[39m\n\u001b[1;32m--> 127\u001b[0m \u001b[39mreturn\u001b[39;00m _bootstrap\u001b[39m.\u001b[39;49m_gcd_import(name[level:], package, level)\n",
      "File \u001b[1;32m<frozen importlib._bootstrap>:1014\u001b[0m, in \u001b[0;36m_gcd_import\u001b[1;34m(name, package, level)\u001b[0m\n",
      "File \u001b[1;32m<frozen importlib._bootstrap>:991\u001b[0m, in \u001b[0;36m_find_and_load\u001b[1;34m(name, import_)\u001b[0m\n",
      "File \u001b[1;32m<frozen importlib._bootstrap>:973\u001b[0m, in \u001b[0;36m_find_and_load_unlocked\u001b[1;34m(name, import_)\u001b[0m\n",
      "\u001b[1;31mModuleNotFoundError\u001b[0m: No module named 'scipy'",
      "\nDuring handling of the above exception, another exception occurred:\n",
      "\u001b[1;31mImportError\u001b[0m                               Traceback (most recent call last)",
      "Cell \u001b[1;32mIn[10], line 1\u001b[0m\n\u001b[1;32m----> 1\u001b[0m nedf \u001b[39m=\u001b[39m df\u001b[39m.\u001b[39;49minterpolate(method\u001b[39m=\u001b[39;49m\u001b[39m'\u001b[39;49m\u001b[39mcubic\u001b[39;49m\u001b[39m'\u001b[39;49m, axis\u001b[39m=\u001b[39;49m\u001b[39m0\u001b[39;49m)\u001b[39m.\u001b[39mffill()\u001b[39m.\u001b[39mbfill()\n",
      "File \u001b[1;32mc:\\Python\\Python3.8.5\\lib\\site-packages\\pandas\\core\\frame.py:11471\u001b[0m, in \u001b[0;36mDataFrame.interpolate\u001b[1;34m(self, method, axis, limit, inplace, limit_direction, limit_area, downcast, **kwargs)\u001b[0m\n\u001b[0;32m  11459\u001b[0m \u001b[39mdef\u001b[39;00m \u001b[39minterpolate\u001b[39m(\n\u001b[0;32m  11460\u001b[0m     \u001b[39mself\u001b[39m: DataFrame,\n\u001b[0;32m  11461\u001b[0m     method: \u001b[39mstr\u001b[39m \u001b[39m=\u001b[39m \u001b[39m\"\u001b[39m\u001b[39mlinear\u001b[39m\u001b[39m\"\u001b[39m,\n\u001b[1;32m   (...)\u001b[0m\n\u001b[0;32m  11469\u001b[0m     \u001b[39m*\u001b[39m\u001b[39m*\u001b[39mkwargs,\n\u001b[0;32m  11470\u001b[0m ) \u001b[39m-\u001b[39m\u001b[39m>\u001b[39m DataFrame \u001b[39m|\u001b[39m \u001b[39mNone\u001b[39;00m:\n\u001b[1;32m> 11471\u001b[0m     \u001b[39mreturn\u001b[39;00m \u001b[39msuper\u001b[39;49m()\u001b[39m.\u001b[39;49minterpolate(\n\u001b[0;32m  11472\u001b[0m         method\u001b[39m=\u001b[39;49mmethod,\n\u001b[0;32m  11473\u001b[0m         axis\u001b[39m=\u001b[39;49maxis,\n\u001b[0;32m  11474\u001b[0m         limit\u001b[39m=\u001b[39;49mlimit,\n\u001b[0;32m  11475\u001b[0m         inplace\u001b[39m=\u001b[39;49minplace,\n\u001b[0;32m  11476\u001b[0m         limit_direction\u001b[39m=\u001b[39;49mlimit_direction,\n\u001b[0;32m  11477\u001b[0m         limit_area\u001b[39m=\u001b[39;49mlimit_area,\n\u001b[0;32m  11478\u001b[0m         downcast\u001b[39m=\u001b[39;49mdowncast,\n\u001b[0;32m  11479\u001b[0m         \u001b[39m*\u001b[39;49m\u001b[39m*\u001b[39;49mkwargs,\n\u001b[0;32m  11480\u001b[0m     )\n",
      "File \u001b[1;32mc:\\Python\\Python3.8.5\\lib\\site-packages\\pandas\\core\\generic.py:7688\u001b[0m, in \u001b[0;36mNDFrame.interpolate\u001b[1;34m(self, method, axis, limit, inplace, limit_direction, limit_area, downcast, **kwargs)\u001b[0m\n\u001b[0;32m   7682\u001b[0m \u001b[39mif\u001b[39;00m isna(index)\u001b[39m.\u001b[39many():\n\u001b[0;32m   7683\u001b[0m     \u001b[39mraise\u001b[39;00m \u001b[39mNotImplementedError\u001b[39;00m(\n\u001b[0;32m   7684\u001b[0m         \u001b[39m\"\u001b[39m\u001b[39mInterpolation with NaNs in the index \u001b[39m\u001b[39m\"\u001b[39m\n\u001b[0;32m   7685\u001b[0m         \u001b[39m\"\u001b[39m\u001b[39mhas not been implemented. Try filling \u001b[39m\u001b[39m\"\u001b[39m\n\u001b[0;32m   7686\u001b[0m         \u001b[39m\"\u001b[39m\u001b[39mthose NaNs before interpolating.\u001b[39m\u001b[39m\"\u001b[39m\n\u001b[0;32m   7687\u001b[0m     )\n\u001b[1;32m-> 7688\u001b[0m new_data \u001b[39m=\u001b[39m obj\u001b[39m.\u001b[39;49m_mgr\u001b[39m.\u001b[39;49minterpolate(\n\u001b[0;32m   7689\u001b[0m     method\u001b[39m=\u001b[39;49mmethod,\n\u001b[0;32m   7690\u001b[0m     axis\u001b[39m=\u001b[39;49maxis,\n\u001b[0;32m   7691\u001b[0m     index\u001b[39m=\u001b[39;49mindex,\n\u001b[0;32m   7692\u001b[0m     limit\u001b[39m=\u001b[39;49mlimit,\n\u001b[0;32m   7693\u001b[0m     limit_direction\u001b[39m=\u001b[39;49mlimit_direction,\n\u001b[0;32m   7694\u001b[0m     limit_area\u001b[39m=\u001b[39;49mlimit_area,\n\u001b[0;32m   7695\u001b[0m     inplace\u001b[39m=\u001b[39;49minplace,\n\u001b[0;32m   7696\u001b[0m     downcast\u001b[39m=\u001b[39;49mdowncast,\n\u001b[0;32m   7697\u001b[0m     \u001b[39m*\u001b[39;49m\u001b[39m*\u001b[39;49mkwargs,\n\u001b[0;32m   7698\u001b[0m )\n\u001b[0;32m   7700\u001b[0m result \u001b[39m=\u001b[39m \u001b[39mself\u001b[39m\u001b[39m.\u001b[39m_constructor(new_data)\n\u001b[0;32m   7701\u001b[0m \u001b[39mif\u001b[39;00m should_transpose:\n",
      "File \u001b[1;32mc:\\Python\\Python3.8.5\\lib\\site-packages\\pandas\\core\\internals\\managers.py:417\u001b[0m, in \u001b[0;36mBaseBlockManager.interpolate\u001b[1;34m(self, inplace, **kwargs)\u001b[0m\n\u001b[0;32m    416\u001b[0m \u001b[39mdef\u001b[39;00m \u001b[39minterpolate\u001b[39m(\u001b[39mself\u001b[39m: T, inplace: \u001b[39mbool\u001b[39m, \u001b[39m*\u001b[39m\u001b[39m*\u001b[39mkwargs) \u001b[39m-\u001b[39m\u001b[39m>\u001b[39m T:\n\u001b[1;32m--> 417\u001b[0m     \u001b[39mreturn\u001b[39;00m \u001b[39mself\u001b[39;49m\u001b[39m.\u001b[39;49mapply(\n\u001b[0;32m    418\u001b[0m         \u001b[39m\"\u001b[39;49m\u001b[39minterpolate\u001b[39;49m\u001b[39m\"\u001b[39;49m, inplace\u001b[39m=\u001b[39;49minplace, \u001b[39m*\u001b[39;49m\u001b[39m*\u001b[39;49mkwargs, using_cow\u001b[39m=\u001b[39;49musing_copy_on_write()\n\u001b[0;32m    419\u001b[0m     )\n",
      "File \u001b[1;32mc:\\Python\\Python3.8.5\\lib\\site-packages\\pandas\\core\\internals\\managers.py:352\u001b[0m, in \u001b[0;36mBaseBlockManager.apply\u001b[1;34m(self, f, align_keys, **kwargs)\u001b[0m\n\u001b[0;32m    350\u001b[0m         applied \u001b[39m=\u001b[39m b\u001b[39m.\u001b[39mapply(f, \u001b[39m*\u001b[39m\u001b[39m*\u001b[39mkwargs)\n\u001b[0;32m    351\u001b[0m     \u001b[39melse\u001b[39;00m:\n\u001b[1;32m--> 352\u001b[0m         applied \u001b[39m=\u001b[39m \u001b[39mgetattr\u001b[39;49m(b, f)(\u001b[39m*\u001b[39;49m\u001b[39m*\u001b[39;49mkwargs)\n\u001b[0;32m    353\u001b[0m     result_blocks \u001b[39m=\u001b[39m extend_blocks(applied, result_blocks)\n\u001b[0;32m    355\u001b[0m out \u001b[39m=\u001b[39m \u001b[39mtype\u001b[39m(\u001b[39mself\u001b[39m)\u001b[39m.\u001b[39mfrom_blocks(result_blocks, \u001b[39mself\u001b[39m\u001b[39m.\u001b[39maxes)\n",
      "File \u001b[1;32mc:\\Python\\Python3.8.5\\lib\\site-packages\\pandas\\core\\internals\\blocks.py:1378\u001b[0m, in \u001b[0;36mBlock.interpolate\u001b[1;34m(self, method, axis, index, inplace, limit, limit_direction, limit_area, fill_value, downcast, using_cow, **kwargs)\u001b[0m\n\u001b[0;32m   1375\u001b[0m     data \u001b[39m=\u001b[39m \u001b[39mself\u001b[39m\u001b[39m.\u001b[39mvalues\u001b[39m.\u001b[39mcopy()\n\u001b[0;32m   1376\u001b[0m data \u001b[39m=\u001b[39m cast(np\u001b[39m.\u001b[39mndarray, data)  \u001b[39m# bc overridden by ExtensionBlock\u001b[39;00m\n\u001b[1;32m-> 1378\u001b[0m missing\u001b[39m.\u001b[39;49minterpolate_array_2d(\n\u001b[0;32m   1379\u001b[0m     data,\n\u001b[0;32m   1380\u001b[0m     method\u001b[39m=\u001b[39;49mmethod,\n\u001b[0;32m   1381\u001b[0m     axis\u001b[39m=\u001b[39;49maxis,\n\u001b[0;32m   1382\u001b[0m     index\u001b[39m=\u001b[39;49mindex,\n\u001b[0;32m   1383\u001b[0m     limit\u001b[39m=\u001b[39;49mlimit,\n\u001b[0;32m   1384\u001b[0m     limit_direction\u001b[39m=\u001b[39;49mlimit_direction,\n\u001b[0;32m   1385\u001b[0m     limit_area\u001b[39m=\u001b[39;49mlimit_area,\n\u001b[0;32m   1386\u001b[0m     fill_value\u001b[39m=\u001b[39;49mfill_value,\n\u001b[0;32m   1387\u001b[0m     \u001b[39m*\u001b[39;49m\u001b[39m*\u001b[39;49mkwargs,\n\u001b[0;32m   1388\u001b[0m )\n\u001b[0;32m   1390\u001b[0m nb \u001b[39m=\u001b[39m \u001b[39mself\u001b[39m\u001b[39m.\u001b[39mmake_block_same_class(data, refs\u001b[39m=\u001b[39mrefs)\n\u001b[0;32m   1391\u001b[0m \u001b[39mreturn\u001b[39;00m nb\u001b[39m.\u001b[39m_maybe_downcast([nb], downcast, using_cow)\n",
      "File \u001b[1;32mc:\\Python\\Python3.8.5\\lib\\site-packages\\pandas\\core\\missing.py:267\u001b[0m, in \u001b[0;36minterpolate_array_2d\u001b[1;34m(data, method, axis, index, limit, limit_direction, limit_area, fill_value, coerce, downcast, **kwargs)\u001b[0m\n\u001b[0;32m    264\u001b[0m \u001b[39melse\u001b[39;00m:\n\u001b[0;32m    265\u001b[0m     \u001b[39massert\u001b[39;00m index \u001b[39mis\u001b[39;00m \u001b[39mnot\u001b[39;00m \u001b[39mNone\u001b[39;00m  \u001b[39m# for mypy\u001b[39;00m\n\u001b[1;32m--> 267\u001b[0m     _interpolate_2d_with_fill(\n\u001b[0;32m    268\u001b[0m         data\u001b[39m=\u001b[39;49mdata,\n\u001b[0;32m    269\u001b[0m         index\u001b[39m=\u001b[39;49mindex,\n\u001b[0;32m    270\u001b[0m         axis\u001b[39m=\u001b[39;49maxis,\n\u001b[0;32m    271\u001b[0m         method\u001b[39m=\u001b[39;49mmethod,\n\u001b[0;32m    272\u001b[0m         limit\u001b[39m=\u001b[39;49mlimit,\n\u001b[0;32m    273\u001b[0m         limit_direction\u001b[39m=\u001b[39;49mlimit_direction,\n\u001b[0;32m    274\u001b[0m         limit_area\u001b[39m=\u001b[39;49mlimit_area,\n\u001b[0;32m    275\u001b[0m         fill_value\u001b[39m=\u001b[39;49mfill_value,\n\u001b[0;32m    276\u001b[0m         \u001b[39m*\u001b[39;49m\u001b[39m*\u001b[39;49mkwargs,\n\u001b[0;32m    277\u001b[0m     )\n",
      "File \u001b[1;32mc:\\Python\\Python3.8.5\\lib\\site-packages\\pandas\\core\\missing.py:359\u001b[0m, in \u001b[0;36m_interpolate_2d_with_fill\u001b[1;34m(data, index, axis, method, limit, limit_direction, limit_area, fill_value, **kwargs)\u001b[0m\n\u001b[0;32m    341\u001b[0m     _interpolate_1d(\n\u001b[0;32m    342\u001b[0m         indices\u001b[39m=\u001b[39mindices,\n\u001b[0;32m    343\u001b[0m         yvalues\u001b[39m=\u001b[39myvalues,\n\u001b[1;32m   (...)\u001b[0m\n\u001b[0;32m    350\u001b[0m         \u001b[39m*\u001b[39m\u001b[39m*\u001b[39mkwargs,\n\u001b[0;32m    351\u001b[0m     )\n\u001b[0;32m    353\u001b[0m \u001b[39m# error: Argument 1 to \"apply_along_axis\" has incompatible type\u001b[39;00m\n\u001b[0;32m    354\u001b[0m \u001b[39m# \"Callable[[ndarray[Any, Any]], None]\"; expected \"Callable[...,\u001b[39;00m\n\u001b[0;32m    355\u001b[0m \u001b[39m# Union[_SupportsArray[dtype[<nothing>]], Sequence[_SupportsArray\u001b[39;00m\n\u001b[0;32m    356\u001b[0m \u001b[39m# [dtype[<nothing>]]], Sequence[Sequence[_SupportsArray[dtype[<nothing>]]]],\u001b[39;00m\n\u001b[0;32m    357\u001b[0m \u001b[39m# Sequence[Sequence[Sequence[_SupportsArray[dtype[<nothing>]]]]],\u001b[39;00m\n\u001b[0;32m    358\u001b[0m \u001b[39m# Sequence[Sequence[Sequence[Sequence[_SupportsArray[dtype[<nothing>]]]]]]]]\"\u001b[39;00m\n\u001b[1;32m--> 359\u001b[0m np\u001b[39m.\u001b[39;49mapply_along_axis(func, axis, data)\n",
      "File \u001b[1;32m<__array_function__ internals>:200\u001b[0m, in \u001b[0;36mapply_along_axis\u001b[1;34m(*args, **kwargs)\u001b[0m\n",
      "File \u001b[1;32mc:\\Python\\Python3.8.5\\lib\\site-packages\\numpy\\lib\\shape_base.py:379\u001b[0m, in \u001b[0;36mapply_along_axis\u001b[1;34m(func1d, axis, arr, *args, **kwargs)\u001b[0m\n\u001b[0;32m    375\u001b[0m \u001b[39mexcept\u001b[39;00m \u001b[39mStopIteration\u001b[39;00m \u001b[39mas\u001b[39;00m e:\n\u001b[0;32m    376\u001b[0m     \u001b[39mraise\u001b[39;00m \u001b[39mValueError\u001b[39;00m(\n\u001b[0;32m    377\u001b[0m         \u001b[39m'\u001b[39m\u001b[39mCannot apply_along_axis when any iteration dimensions are 0\u001b[39m\u001b[39m'\u001b[39m\n\u001b[0;32m    378\u001b[0m     ) \u001b[39mfrom\u001b[39;00m \u001b[39mNone\u001b[39m\n\u001b[1;32m--> 379\u001b[0m res \u001b[39m=\u001b[39m asanyarray(func1d(inarr_view[ind0], \u001b[39m*\u001b[39;49margs, \u001b[39m*\u001b[39;49m\u001b[39m*\u001b[39;49mkwargs))\n\u001b[0;32m    381\u001b[0m \u001b[39m# build a buffer for storing evaluations of func1d.\u001b[39;00m\n\u001b[0;32m    382\u001b[0m \u001b[39m# remove the requested axis, and add the new ones on the end.\u001b[39;00m\n\u001b[0;32m    383\u001b[0m \u001b[39m# laid out so that each write is contiguous.\u001b[39;00m\n\u001b[0;32m    384\u001b[0m \u001b[39m# for a tuple index inds, buff[inds] = func1d(inarr_view[inds])\u001b[39;00m\n\u001b[0;32m    385\u001b[0m buff \u001b[39m=\u001b[39m zeros(inarr_view\u001b[39m.\u001b[39mshape[:\u001b[39m-\u001b[39m\u001b[39m1\u001b[39m] \u001b[39m+\u001b[39m res\u001b[39m.\u001b[39mshape, res\u001b[39m.\u001b[39mdtype)\n",
      "File \u001b[1;32mc:\\Python\\Python3.8.5\\lib\\site-packages\\pandas\\core\\missing.py:341\u001b[0m, in \u001b[0;36m_interpolate_2d_with_fill.<locals>.func\u001b[1;34m(yvalues)\u001b[0m\n\u001b[0;32m    338\u001b[0m \u001b[39mdef\u001b[39;00m \u001b[39mfunc\u001b[39m(yvalues: np\u001b[39m.\u001b[39mndarray) \u001b[39m-\u001b[39m\u001b[39m>\u001b[39m \u001b[39mNone\u001b[39;00m:\n\u001b[0;32m    339\u001b[0m     \u001b[39m# process 1-d slices in the axis direction\u001b[39;00m\n\u001b[1;32m--> 341\u001b[0m     _interpolate_1d(\n\u001b[0;32m    342\u001b[0m         indices\u001b[39m=\u001b[39;49mindices,\n\u001b[0;32m    343\u001b[0m         yvalues\u001b[39m=\u001b[39;49myvalues,\n\u001b[0;32m    344\u001b[0m         method\u001b[39m=\u001b[39;49mmethod,\n\u001b[0;32m    345\u001b[0m         limit\u001b[39m=\u001b[39;49mlimit,\n\u001b[0;32m    346\u001b[0m         limit_direction\u001b[39m=\u001b[39;49mlimit_direction,\n\u001b[0;32m    347\u001b[0m         limit_area\u001b[39m=\u001b[39;49mlimit_area,\n\u001b[0;32m    348\u001b[0m         fill_value\u001b[39m=\u001b[39;49mfill_value,\n\u001b[0;32m    349\u001b[0m         bounds_error\u001b[39m=\u001b[39;49m\u001b[39mFalse\u001b[39;49;00m,\n\u001b[0;32m    350\u001b[0m         \u001b[39m*\u001b[39;49m\u001b[39m*\u001b[39;49mkwargs,\n\u001b[0;32m    351\u001b[0m     )\n",
      "File \u001b[1;32mc:\\Python\\Python3.8.5\\lib\\site-packages\\pandas\\core\\missing.py:474\u001b[0m, in \u001b[0;36m_interpolate_1d\u001b[1;34m(indices, yvalues, method, limit, limit_direction, limit_area, fill_value, bounds_error, order, **kwargs)\u001b[0m\n\u001b[0;32m    470\u001b[0m     yvalues[invalid] \u001b[39m=\u001b[39m np\u001b[39m.\u001b[39minterp(\n\u001b[0;32m    471\u001b[0m         indices[invalid], indices[valid][indexer], yvalues[valid][indexer]\n\u001b[0;32m    472\u001b[0m     )\n\u001b[0;32m    473\u001b[0m \u001b[39melse\u001b[39;00m:\n\u001b[1;32m--> 474\u001b[0m     yvalues[invalid] \u001b[39m=\u001b[39m _interpolate_scipy_wrapper(\n\u001b[0;32m    475\u001b[0m         indices[valid],\n\u001b[0;32m    476\u001b[0m         yvalues[valid],\n\u001b[0;32m    477\u001b[0m         indices[invalid],\n\u001b[0;32m    478\u001b[0m         method\u001b[39m=\u001b[39;49mmethod,\n\u001b[0;32m    479\u001b[0m         fill_value\u001b[39m=\u001b[39;49mfill_value,\n\u001b[0;32m    480\u001b[0m         bounds_error\u001b[39m=\u001b[39;49mbounds_error,\n\u001b[0;32m    481\u001b[0m         order\u001b[39m=\u001b[39;49morder,\n\u001b[0;32m    482\u001b[0m         \u001b[39m*\u001b[39;49m\u001b[39m*\u001b[39;49mkwargs,\n\u001b[0;32m    483\u001b[0m     )\n\u001b[0;32m    485\u001b[0m \u001b[39mif\u001b[39;00m is_datetimelike:\n\u001b[0;32m    486\u001b[0m     yvalues[preserve_nans] \u001b[39m=\u001b[39m NaT\u001b[39m.\u001b[39mvalue\n",
      "File \u001b[1;32mc:\\Python\\Python3.8.5\\lib\\site-packages\\pandas\\core\\missing.py:508\u001b[0m, in \u001b[0;36m_interpolate_scipy_wrapper\u001b[1;34m(x, y, new_x, method, fill_value, bounds_error, order, **kwargs)\u001b[0m\n\u001b[0;32m    502\u001b[0m \u001b[39m\u001b[39m\u001b[39m\"\"\"\u001b[39;00m\n\u001b[0;32m    503\u001b[0m \u001b[39mPassed off to scipy.interpolate.interp1d. method is scipy's kind.\u001b[39;00m\n\u001b[0;32m    504\u001b[0m \u001b[39mReturns an array interpolated at new_x.  Add any new methods to\u001b[39;00m\n\u001b[0;32m    505\u001b[0m \u001b[39mthe list in _clean_interp_method.\u001b[39;00m\n\u001b[0;32m    506\u001b[0m \u001b[39m\"\"\"\u001b[39;00m\n\u001b[0;32m    507\u001b[0m extra \u001b[39m=\u001b[39m \u001b[39mf\u001b[39m\u001b[39m\"\u001b[39m\u001b[39m{\u001b[39;00mmethod\u001b[39m}\u001b[39;00m\u001b[39m interpolation requires SciPy.\u001b[39m\u001b[39m\"\u001b[39m\n\u001b[1;32m--> 508\u001b[0m import_optional_dependency(\u001b[39m\"\u001b[39;49m\u001b[39mscipy\u001b[39;49m\u001b[39m\"\u001b[39;49m, extra\u001b[39m=\u001b[39;49mextra)\n\u001b[0;32m    509\u001b[0m \u001b[39mfrom\u001b[39;00m \u001b[39mscipy\u001b[39;00m \u001b[39mimport\u001b[39;00m interpolate\n\u001b[0;32m    511\u001b[0m new_x \u001b[39m=\u001b[39m np\u001b[39m.\u001b[39masarray(new_x)\n",
      "File \u001b[1;32mc:\\Python\\Python3.8.5\\lib\\site-packages\\pandas\\compat\\_optional.py:145\u001b[0m, in \u001b[0;36mimport_optional_dependency\u001b[1;34m(name, extra, errors, min_version)\u001b[0m\n\u001b[0;32m    143\u001b[0m \u001b[39mexcept\u001b[39;00m \u001b[39mImportError\u001b[39;00m:\n\u001b[0;32m    144\u001b[0m     \u001b[39mif\u001b[39;00m errors \u001b[39m==\u001b[39m \u001b[39m\"\u001b[39m\u001b[39mraise\u001b[39m\u001b[39m\"\u001b[39m:\n\u001b[1;32m--> 145\u001b[0m         \u001b[39mraise\u001b[39;00m \u001b[39mImportError\u001b[39;00m(msg)\n\u001b[0;32m    146\u001b[0m     \u001b[39mreturn\u001b[39;00m \u001b[39mNone\u001b[39;00m\n\u001b[0;32m    148\u001b[0m \u001b[39m# Handle submodules: if we have submodule, grab parent module from sys.modules\u001b[39;00m\n",
      "\u001b[1;31mImportError\u001b[0m: Missing optional dependency 'scipy'. cubic interpolation requires SciPy. Use pip or conda to install scipy."
     ]
    }
   ],
   "source": [
    "nedf = df.interpolate(method='cubic', axis=0).ffill().bfill()"
   ]
  },
  {
   "cell_type": "code",
   "execution_count": null,
   "metadata": {},
   "outputs": [
    {
     "data": {
      "text/html": [
       "<div>\n",
       "<style scoped>\n",
       "    .dataframe tbody tr th:only-of-type {\n",
       "        vertical-align: middle;\n",
       "    }\n",
       "\n",
       "    .dataframe tbody tr th {\n",
       "        vertical-align: top;\n",
       "    }\n",
       "\n",
       "    .dataframe thead th {\n",
       "        text-align: right;\n",
       "    }\n",
       "</style>\n",
       "<table border=\"1\" class=\"dataframe\">\n",
       "  <thead>\n",
       "    <tr style=\"text-align: right;\">\n",
       "      <th></th>\n",
       "      <th>SST</th>\n",
       "      <th>SSC</th>\n",
       "      <th>AT</th>\n",
       "      <th>RH</th>\n",
       "      <th>SLP</th>\n",
       "      <th>TC</th>\n",
       "      <th>TOTALOIL</th>\n",
       "    </tr>\n",
       "  </thead>\n",
       "  <tbody>\n",
       "    <tr>\n",
       "      <th>0</th>\n",
       "      <td>29.356190</td>\n",
       "      <td>0.160000</td>\n",
       "      <td>29.117391</td>\n",
       "      <td>77.686667</td>\n",
       "      <td>1009.645435</td>\n",
       "      <td>3.717778</td>\n",
       "      <td>14151.874000</td>\n",
       "    </tr>\n",
       "    <tr>\n",
       "      <th>1</th>\n",
       "      <td>29.036667</td>\n",
       "      <td>0.180000</td>\n",
       "      <td>28.596875</td>\n",
       "      <td>81.393617</td>\n",
       "      <td>1007.970417</td>\n",
       "      <td>5.682979</td>\n",
       "      <td>10643.353000</td>\n",
       "    </tr>\n",
       "    <tr>\n",
       "      <th>2</th>\n",
       "      <td>28.392000</td>\n",
       "      <td>0.120000</td>\n",
       "      <td>27.458889</td>\n",
       "      <td>74.524444</td>\n",
       "      <td>1009.368636</td>\n",
       "      <td>3.581395</td>\n",
       "      <td>71906.825000</td>\n",
       "    </tr>\n",
       "    <tr>\n",
       "      <th>3</th>\n",
       "      <td>28.264561</td>\n",
       "      <td>0.153436</td>\n",
       "      <td>27.206719</td>\n",
       "      <td>72.660818</td>\n",
       "      <td>1011.681495</td>\n",
       "      <td>2.748212</td>\n",
       "      <td>83904.077423</td>\n",
       "    </tr>\n",
       "    <tr>\n",
       "      <th>4</th>\n",
       "      <td>28.373095</td>\n",
       "      <td>0.230000</td>\n",
       "      <td>27.545814</td>\n",
       "      <td>74.965854</td>\n",
       "      <td>1013.454318</td>\n",
       "      <td>3.148780</td>\n",
       "      <td>60903.643000</td>\n",
       "    </tr>\n",
       "    <tr>\n",
       "      <th>...</th>\n",
       "      <td>...</td>\n",
       "      <td>...</td>\n",
       "      <td>...</td>\n",
       "      <td>...</td>\n",
       "      <td>...</td>\n",
       "      <td>...</td>\n",
       "      <td>...</td>\n",
       "    </tr>\n",
       "    <tr>\n",
       "      <th>86</th>\n",
       "      <td>28.832381</td>\n",
       "      <td>0.183171</td>\n",
       "      <td>27.711862</td>\n",
       "      <td>70.788094</td>\n",
       "      <td>1014.585875</td>\n",
       "      <td>1.374129</td>\n",
       "      <td>79499.586720</td>\n",
       "    </tr>\n",
       "    <tr>\n",
       "      <th>87</th>\n",
       "      <td>29.088229</td>\n",
       "      <td>0.209585</td>\n",
       "      <td>27.899966</td>\n",
       "      <td>71.835525</td>\n",
       "      <td>1014.541974</td>\n",
       "      <td>1.995630</td>\n",
       "      <td>74813.592810</td>\n",
       "    </tr>\n",
       "    <tr>\n",
       "      <th>88</th>\n",
       "      <td>28.749800</td>\n",
       "      <td>0.220000</td>\n",
       "      <td>27.759000</td>\n",
       "      <td>75.864000</td>\n",
       "      <td>1012.828200</td>\n",
       "      <td>3.472000</td>\n",
       "      <td>52246.149000</td>\n",
       "    </tr>\n",
       "    <tr>\n",
       "      <th>89</th>\n",
       "      <td>27.470444</td>\n",
       "      <td>0.190000</td>\n",
       "      <td>27.063043</td>\n",
       "      <td>83.360870</td>\n",
       "      <td>1009.054681</td>\n",
       "      <td>5.747826</td>\n",
       "      <td>6259.526000</td>\n",
       "    </tr>\n",
       "    <tr>\n",
       "      <th>90</th>\n",
       "      <td>27.470444</td>\n",
       "      <td>0.190000</td>\n",
       "      <td>27.063043</td>\n",
       "      <td>83.360870</td>\n",
       "      <td>1009.054681</td>\n",
       "      <td>5.747826</td>\n",
       "      <td>6259.526000</td>\n",
       "    </tr>\n",
       "  </tbody>\n",
       "</table>\n",
       "<p>91 rows × 7 columns</p>\n",
       "</div>"
      ],
      "text/plain": [
       "          SST       SSC         AT         RH          SLP        TC  \\\n",
       "0   29.356190  0.160000  29.117391  77.686667  1009.645435  3.717778   \n",
       "1   29.036667  0.180000  28.596875  81.393617  1007.970417  5.682979   \n",
       "2   28.392000  0.120000  27.458889  74.524444  1009.368636  3.581395   \n",
       "3   28.264561  0.153436  27.206719  72.660818  1011.681495  2.748212   \n",
       "4   28.373095  0.230000  27.545814  74.965854  1013.454318  3.148780   \n",
       "..        ...       ...        ...        ...          ...       ...   \n",
       "86  28.832381  0.183171  27.711862  70.788094  1014.585875  1.374129   \n",
       "87  29.088229  0.209585  27.899966  71.835525  1014.541974  1.995630   \n",
       "88  28.749800  0.220000  27.759000  75.864000  1012.828200  3.472000   \n",
       "89  27.470444  0.190000  27.063043  83.360870  1009.054681  5.747826   \n",
       "90  27.470444  0.190000  27.063043  83.360870  1009.054681  5.747826   \n",
       "\n",
       "        TOTALOIL  \n",
       "0   14151.874000  \n",
       "1   10643.353000  \n",
       "2   71906.825000  \n",
       "3   83904.077423  \n",
       "4   60903.643000  \n",
       "..           ...  \n",
       "86  79499.586720  \n",
       "87  74813.592810  \n",
       "88  52246.149000  \n",
       "89   6259.526000  \n",
       "90   6259.526000  \n",
       "\n",
       "[91 rows x 7 columns]"
      ]
     },
     "execution_count": 8,
     "metadata": {},
     "output_type": "execute_result"
    }
   ],
   "source": [
    "nedf = nedf.astype(\"float\")\n",
    "nedf"
   ]
  },
  {
   "cell_type": "markdown",
   "metadata": {},
   "source": [
    "# Create label"
   ]
  },
  {
   "cell_type": "code",
   "execution_count": null,
   "metadata": {},
   "outputs": [],
   "source": [
    "ssc = np.array(nedf['SSC'])\n",
    "sst = np.array(nedf['SST'])\n",
    "fc = np.array(nedf['TOTALOIL'])"
   ]
  },
  {
   "cell_type": "code",
   "execution_count": null,
   "metadata": {},
   "outputs": [],
   "source": [
    "lab = []\n",
    "for i in range(len(ssc)):\n",
    "    if ssc[i]>0.2 and sst[i]>25.0 and fc[i]>10000:\n",
    "        lab.append(\"PFZ\")\n",
    "    else:\n",
    "        lab.append(\"NPFZ\")"
   ]
  },
  {
   "cell_type": "code",
   "execution_count": null,
   "metadata": {},
   "outputs": [],
   "source": [
    "label = pd.DataFrame(lab,columns=['label'])"
   ]
  },
  {
   "cell_type": "code",
   "execution_count": null,
   "metadata": {},
   "outputs": [
    {
     "data": {
      "text/html": [
       "<div>\n",
       "<style scoped>\n",
       "    .dataframe tbody tr th:only-of-type {\n",
       "        vertical-align: middle;\n",
       "    }\n",
       "\n",
       "    .dataframe tbody tr th {\n",
       "        vertical-align: top;\n",
       "    }\n",
       "\n",
       "    .dataframe thead th {\n",
       "        text-align: right;\n",
       "    }\n",
       "</style>\n",
       "<table border=\"1\" class=\"dataframe\">\n",
       "  <thead>\n",
       "    <tr style=\"text-align: right;\">\n",
       "      <th></th>\n",
       "      <th>SST</th>\n",
       "      <th>SSC</th>\n",
       "      <th>AT</th>\n",
       "      <th>RH</th>\n",
       "      <th>SLP</th>\n",
       "      <th>TC</th>\n",
       "      <th>TOTALOIL</th>\n",
       "      <th>label</th>\n",
       "    </tr>\n",
       "  </thead>\n",
       "  <tbody>\n",
       "    <tr>\n",
       "      <th>0</th>\n",
       "      <td>29.356190</td>\n",
       "      <td>0.160000</td>\n",
       "      <td>29.117391</td>\n",
       "      <td>77.686667</td>\n",
       "      <td>1009.645435</td>\n",
       "      <td>3.717778</td>\n",
       "      <td>14151.874000</td>\n",
       "      <td>NPFZ</td>\n",
       "    </tr>\n",
       "    <tr>\n",
       "      <th>1</th>\n",
       "      <td>29.036667</td>\n",
       "      <td>0.180000</td>\n",
       "      <td>28.596875</td>\n",
       "      <td>81.393617</td>\n",
       "      <td>1007.970417</td>\n",
       "      <td>5.682979</td>\n",
       "      <td>10643.353000</td>\n",
       "      <td>NPFZ</td>\n",
       "    </tr>\n",
       "    <tr>\n",
       "      <th>2</th>\n",
       "      <td>28.392000</td>\n",
       "      <td>0.120000</td>\n",
       "      <td>27.458889</td>\n",
       "      <td>74.524444</td>\n",
       "      <td>1009.368636</td>\n",
       "      <td>3.581395</td>\n",
       "      <td>71906.825000</td>\n",
       "      <td>NPFZ</td>\n",
       "    </tr>\n",
       "    <tr>\n",
       "      <th>3</th>\n",
       "      <td>28.264561</td>\n",
       "      <td>0.153436</td>\n",
       "      <td>27.206719</td>\n",
       "      <td>72.660818</td>\n",
       "      <td>1011.681495</td>\n",
       "      <td>2.748212</td>\n",
       "      <td>83904.077423</td>\n",
       "      <td>NPFZ</td>\n",
       "    </tr>\n",
       "    <tr>\n",
       "      <th>4</th>\n",
       "      <td>28.373095</td>\n",
       "      <td>0.230000</td>\n",
       "      <td>27.545814</td>\n",
       "      <td>74.965854</td>\n",
       "      <td>1013.454318</td>\n",
       "      <td>3.148780</td>\n",
       "      <td>60903.643000</td>\n",
       "      <td>PFZ</td>\n",
       "    </tr>\n",
       "    <tr>\n",
       "      <th>...</th>\n",
       "      <td>...</td>\n",
       "      <td>...</td>\n",
       "      <td>...</td>\n",
       "      <td>...</td>\n",
       "      <td>...</td>\n",
       "      <td>...</td>\n",
       "      <td>...</td>\n",
       "      <td>...</td>\n",
       "    </tr>\n",
       "    <tr>\n",
       "      <th>86</th>\n",
       "      <td>28.832381</td>\n",
       "      <td>0.183171</td>\n",
       "      <td>27.711862</td>\n",
       "      <td>70.788094</td>\n",
       "      <td>1014.585875</td>\n",
       "      <td>1.374129</td>\n",
       "      <td>79499.586720</td>\n",
       "      <td>NPFZ</td>\n",
       "    </tr>\n",
       "    <tr>\n",
       "      <th>87</th>\n",
       "      <td>29.088229</td>\n",
       "      <td>0.209585</td>\n",
       "      <td>27.899966</td>\n",
       "      <td>71.835525</td>\n",
       "      <td>1014.541974</td>\n",
       "      <td>1.995630</td>\n",
       "      <td>74813.592810</td>\n",
       "      <td>PFZ</td>\n",
       "    </tr>\n",
       "    <tr>\n",
       "      <th>88</th>\n",
       "      <td>28.749800</td>\n",
       "      <td>0.220000</td>\n",
       "      <td>27.759000</td>\n",
       "      <td>75.864000</td>\n",
       "      <td>1012.828200</td>\n",
       "      <td>3.472000</td>\n",
       "      <td>52246.149000</td>\n",
       "      <td>PFZ</td>\n",
       "    </tr>\n",
       "    <tr>\n",
       "      <th>89</th>\n",
       "      <td>27.470444</td>\n",
       "      <td>0.190000</td>\n",
       "      <td>27.063043</td>\n",
       "      <td>83.360870</td>\n",
       "      <td>1009.054681</td>\n",
       "      <td>5.747826</td>\n",
       "      <td>6259.526000</td>\n",
       "      <td>NPFZ</td>\n",
       "    </tr>\n",
       "    <tr>\n",
       "      <th>90</th>\n",
       "      <td>27.470444</td>\n",
       "      <td>0.190000</td>\n",
       "      <td>27.063043</td>\n",
       "      <td>83.360870</td>\n",
       "      <td>1009.054681</td>\n",
       "      <td>5.747826</td>\n",
       "      <td>6259.526000</td>\n",
       "      <td>NPFZ</td>\n",
       "    </tr>\n",
       "  </tbody>\n",
       "</table>\n",
       "<p>91 rows × 8 columns</p>\n",
       "</div>"
      ],
      "text/plain": [
       "          SST       SSC         AT         RH          SLP        TC  \\\n",
       "0   29.356190  0.160000  29.117391  77.686667  1009.645435  3.717778   \n",
       "1   29.036667  0.180000  28.596875  81.393617  1007.970417  5.682979   \n",
       "2   28.392000  0.120000  27.458889  74.524444  1009.368636  3.581395   \n",
       "3   28.264561  0.153436  27.206719  72.660818  1011.681495  2.748212   \n",
       "4   28.373095  0.230000  27.545814  74.965854  1013.454318  3.148780   \n",
       "..        ...       ...        ...        ...          ...       ...   \n",
       "86  28.832381  0.183171  27.711862  70.788094  1014.585875  1.374129   \n",
       "87  29.088229  0.209585  27.899966  71.835525  1014.541974  1.995630   \n",
       "88  28.749800  0.220000  27.759000  75.864000  1012.828200  3.472000   \n",
       "89  27.470444  0.190000  27.063043  83.360870  1009.054681  5.747826   \n",
       "90  27.470444  0.190000  27.063043  83.360870  1009.054681  5.747826   \n",
       "\n",
       "        TOTALOIL label  \n",
       "0   14151.874000  NPFZ  \n",
       "1   10643.353000  NPFZ  \n",
       "2   71906.825000  NPFZ  \n",
       "3   83904.077423  NPFZ  \n",
       "4   60903.643000   PFZ  \n",
       "..           ...   ...  \n",
       "86  79499.586720  NPFZ  \n",
       "87  74813.592810   PFZ  \n",
       "88  52246.149000   PFZ  \n",
       "89   6259.526000  NPFZ  \n",
       "90   6259.526000  NPFZ  \n",
       "\n",
       "[91 rows x 8 columns]"
      ]
     },
     "execution_count": 12,
     "metadata": {},
     "output_type": "execute_result"
    }
   ],
   "source": [
    "dataset = pd.concat([nedf,label],axis=1)\n",
    "dataset"
   ]
  },
  {
   "cell_type": "code",
   "execution_count": null,
   "metadata": {},
   "outputs": [],
   "source": [
    "dataset.to_csv(\"cubic_interpolation.csv\",sep='\\t', encoding='utf-8')"
   ]
  },
  {
   "cell_type": "code",
   "execution_count": null,
   "metadata": {},
   "outputs": [],
   "source": [
    "# create a copy\n",
    "df1 = dataset"
   ]
  },
  {
   "cell_type": "code",
   "execution_count": null,
   "metadata": {},
   "outputs": [],
   "source": [
    "# mapping\n",
    "df1['label']=df1['label'].map({'PFZ':0,'NPFZ':1})"
   ]
  },
  {
   "cell_type": "markdown",
   "metadata": {},
   "source": [
    "# Drop Total catch"
   ]
  },
  {
   "cell_type": "code",
   "execution_count": null,
   "metadata": {},
   "outputs": [
    {
     "data": {
      "text/plain": [
       "Index(['SST', 'SSC', 'AT', 'RH', 'SLP', 'TC', 'label'], dtype='object')"
      ]
     },
     "execution_count": 16,
     "metadata": {},
     "output_type": "execute_result"
    }
   ],
   "source": [
    "df2=df1.drop(['TOTALOIL'],axis=1)\n",
    "df2.columns"
   ]
  },
  {
   "cell_type": "markdown",
   "metadata": {},
   "source": [
    "# Split data and label"
   ]
  },
  {
   "cell_type": "code",
   "execution_count": null,
   "metadata": {},
   "outputs": [],
   "source": [
    "X = df2[['SST', 'SSC', 'AT', 'RH', 'SLP', 'TC']]\n",
    "Y = df2[['label']]"
   ]
  },
  {
   "cell_type": "markdown",
   "metadata": {},
   "source": [
    "# normalized the data and label"
   ]
  },
  {
   "cell_type": "code",
   "execution_count": null,
   "metadata": {},
   "outputs": [],
   "source": [
    "from sklearn import preprocessing"
   ]
  },
  {
   "cell_type": "code",
   "execution_count": null,
   "metadata": {},
   "outputs": [],
   "source": [
    "X_norm = preprocessing.normalize(X, norm='l2')"
   ]
  },
  {
   "cell_type": "code",
   "execution_count": null,
   "metadata": {},
   "outputs": [],
   "source": [
    "y = np.squeeze(np.array(Y).reshape(1,-1))"
   ]
  },
  {
   "cell_type": "markdown",
   "metadata": {},
   "source": [
    "# Feature importance"
   ]
  },
  {
   "cell_type": "code",
   "execution_count": null,
   "metadata": {},
   "outputs": [],
   "source": [
    "from sklearn.ensemble import ExtraTreesClassifier"
   ]
  },
  {
   "cell_type": "code",
   "execution_count": null,
   "metadata": {},
   "outputs": [
    {
     "name": "stdout",
     "output_type": "stream",
     "text": [
      "[0.1648513  0.50519271 0.10192441 0.08046873 0.07817693 0.06938593]\n"
     ]
    }
   ],
   "source": [
    "model = ExtraTreesClassifier()\n",
    "model.fit(X_norm,y)\n",
    "feature_importance=model.feature_importances_\n",
    "print(model.feature_importances_)"
   ]
  },
  {
   "cell_type": "code",
   "execution_count": null,
   "metadata": {},
   "outputs": [
    {
     "data": {
      "image/png": "[encoded data removed]",
      "text/plain": [
       "<Figure size 640x480 with 1 Axes>"
      ]
     },
     "metadata": {},
     "output_type": "display_data"
    }
   ],
   "source": [
    "feature_importance = 100.0 * (feature_importance / feature_importance.max())\n",
    "sorted_idx = np.argsort(feature_importance)\n",
    "pos = np.arange(sorted_idx.shape[0]) + .8\n",
    "plt.barh(pos, feature_importance[sorted_idx], align='center')\n",
    "plt.yticks(pos, X.columns[sorted_idx])\n",
    "plt.xlabel('Relative Importance')\n",
    "plt.title('Variable Importance')\n",
    "plt.show()"
   ]
  },
  {
   "cell_type": "markdown",
   "metadata": {},
   "source": [
    "# apply machine learning"
   ]
  },
  {
   "cell_type": "code",
   "execution_count": null,
   "metadata": {},
   "outputs": [],
   "source": [
    "from sklearn.model_selection import train_test_split\n",
    "X_train, X_test, y_train, y_test = train_test_split(X_norm,y, test_size=0.33, random_state=40)"
   ]
  },
  {
   "cell_type": "markdown",
   "metadata": {},
   "source": [
    "# SVM"
   ]
  },
  {
   "cell_type": "code",
   "execution_count": null,
   "metadata": {},
   "outputs": [],
   "source": [
    "from sklearn import svm"
   ]
  },
  {
   "cell_type": "code",
   "execution_count": null,
   "metadata": {},
   "outputs": [],
   "source": [
    "clf = svm.SVC() # svm classifer"
   ]
  },
  {
   "cell_type": "code",
   "execution_count": null,
   "metadata": {},
   "outputs": [
    {
     "data": {
      "text/plain": [
       "SVC()"
      ]
     },
     "execution_count": 27,
     "metadata": {},
     "output_type": "execute_result"
    }
   ],
   "source": [
    "clf.fit(X_train, y_train)"
   ]
  },
  {
   "cell_type": "code",
   "execution_count": null,
   "metadata": {},
   "outputs": [],
   "source": [
    "from sklearn.metrics import accuracy_score\n",
    "from sklearn.metrics import confusion_matrix \n",
    "from sklearn.metrics import precision_recall_curve"
   ]
  },
  {
   "cell_type": "code",
   "execution_count": null,
   "metadata": {},
   "outputs": [],
   "source": [
    "result1 = clf.predict(X_test)"
   ]
  },
  {
   "cell_type": "code",
   "execution_count": null,
   "metadata": {},
   "outputs": [
    {
     "data": {
      "text/plain": [
       "array([[ 0,  9],\n",
       "       [ 0, 22]], dtype=int64)"
      ]
     },
     "execution_count": 30,
     "metadata": {},
     "output_type": "execute_result"
    }
   ],
   "source": [
    "confusion_matrix(y_test,result1)"
   ]
  },
  {
   "cell_type": "code",
   "execution_count": null,
   "metadata": {},
   "outputs": [
    {
     "name": "stdout",
     "output_type": "stream",
     "text": [
      "0.7096774193548387\n"
     ]
    }
   ],
   "source": [
    "print(accuracy_score(result1,y_test))"
   ]
  },
  {
   "cell_type": "markdown",
   "metadata": {},
   "source": [
    "# Boosted Tree"
   ]
  },
  {
   "cell_type": "code",
   "execution_count": null,
   "metadata": {},
   "outputs": [
    {
     "ename": "ModuleNotFoundError",
     "evalue": "No module named 'xgboost'",
     "output_type": "error",
     "traceback": [
      "\u001b[1;31m---------------------------------------------------------------------------\u001b[0m",
      "\u001b[1;31mModuleNotFoundError\u001b[0m                       Traceback (most recent call last)",
      "\u001b[1;32m~\\AppData\\Local\\Temp\\ipykernel_7712\\2785909336.py\u001b[0m in \u001b[0;36m<module>\u001b[1;34m\u001b[0m\n\u001b[1;32m----> 1\u001b[1;33m \u001b[1;32mimport\u001b[0m \u001b[0mxgboost\u001b[0m \u001b[1;32mas\u001b[0m \u001b[0mxgb\u001b[0m\u001b[1;33m\u001b[0m\u001b[1;33m\u001b[0m\u001b[0m\n\u001b[0m",
      "\u001b[1;31mModuleNotFoundError\u001b[0m: No module named 'xgboost'"
     ]
    }
   ],
   "source": [
    "import xgboost as xgb"
   ]
  },
  {
   "cell_type": "code",
   "execution_count": null,
   "metadata": {},
   "outputs": [
    {
     "data": {
      "text/plain": [
       "XGBClassifier(base_score=None, booster=None, callbacks=None,\n",
       "              colsample_bylevel=None, colsample_bynode=None,\n",
       "              colsample_bytree=None, early_stopping_rounds=None,\n",
       "              enable_categorical=False, eval_metric=None, feature_types=None,\n",
       "              gamma=None, gpu_id=None, grow_policy=None, importance_type=None,\n",
       "              interaction_constraints=None, learning_rate=None, max_bin=None,\n",
       "              max_cat_threshold=None, max_cat_to_onehot=None,\n",
       "              max_delta_step=None, max_depth=None, max_leaves=None,\n",
       "              min_child_weight=None, missing=nan, monotone_constraints=None,\n",
       "              n_estimators=100, n_jobs=None, num_parallel_tree=None,\n",
       "              predictor=None, random_state=None, ...)"
      ]
     },
     "execution_count": 38,
     "metadata": {},
     "output_type": "execute_result"
    }
   ],
   "source": [
    "model_xgboost = xgb.XGBClassifier() # boosted tree classifire\n",
    "model_xgboost.fit(X_train,y_train)"
   ]
  },
  {
   "cell_type": "code",
   "execution_count": null,
   "metadata": {},
   "outputs": [
    {
     "name": "stdout",
     "output_type": "stream",
     "text": [
      "0.9032258064516129\n"
     ]
    }
   ],
   "source": [
    "predXGB = model_xgboost.predict(X_test)\n",
    "print(accuracy_score(predXGB,y_test))"
   ]
  },
  {
   "cell_type": "code",
   "execution_count": null,
   "metadata": {},
   "outputs": [
    {
     "data": {
      "text/plain": [
       "array([[10,  2],\n",
       "       [ 1, 18]], dtype=int64)"
      ]
     },
     "execution_count": 40,
     "metadata": {},
     "output_type": "execute_result"
    }
   ],
   "source": [
    "confusion_matrix(y_test,predXGB)"
   ]
  },
  {
   "cell_type": "code",
   "execution_count": null,
   "metadata": {},
   "outputs": [],
   "source": [
    "test_set = pd.DataFrame(X_test,columns=['SST', 'SSC', 'AT', 'RH', 'SLP', 'TC'])\n",
    "prediction = pd.DataFrame(predXGB,columns=['label'])\n",
    "prediction['label'] = prediction['label'].map({0:'NPFZ',1:'PFZ'})\n",
    "output = pd.concat([test_set,prediction],axis=1)\n",
    "output.to_csv(\"output.csv\",sep='\\t', encoding='utf-8')"
   ]
  },
  {
   "cell_type": "markdown",
   "metadata": {},
   "source": [
    "# Decision Tree"
   ]
  },
  {
   "cell_type": "code",
   "execution_count": null,
   "metadata": {},
   "outputs": [],
   "source": [
    "from sklearn import tree"
   ]
  },
  {
   "cell_type": "code",
   "execution_count": null,
   "metadata": {},
   "outputs": [],
   "source": [
    "clfD = tree.DecisionTreeClassifier()"
   ]
  },
  {
   "cell_type": "code",
   "execution_count": null,
   "metadata": {},
   "outputs": [
    {
     "data": {
      "text/plain": [
       "DecisionTreeClassifier()"
      ]
     },
     "execution_count": 37,
     "metadata": {},
     "output_type": "execute_result"
    }
   ],
   "source": [
    "clfD.fit(X_train,y_train)"
   ]
  },
  {
   "cell_type": "code",
   "execution_count": null,
   "metadata": {},
   "outputs": [],
   "source": [
    "result2 = clfD.predict(X_test)"
   ]
  },
  {
   "cell_type": "code",
   "execution_count": null,
   "metadata": {},
   "outputs": [
    {
     "data": {
      "text/plain": [
       "1.0"
      ]
     },
     "execution_count": 39,
     "metadata": {},
     "output_type": "execute_result"
    }
   ],
   "source": [
    "accuracy_score(y_test,result2)"
   ]
  },
  {
   "cell_type": "code",
   "execution_count": null,
   "metadata": {},
   "outputs": [
    {
     "data": {
      "text/plain": [
       "array([[ 9,  0],\n",
       "       [ 0, 22]], dtype=int64)"
      ]
     },
     "execution_count": 40,
     "metadata": {},
     "output_type": "execute_result"
    }
   ],
   "source": [
    "confusion_matrix(y_test,result2)"
   ]
  },
  {
   "cell_type": "markdown",
   "metadata": {},
   "source": [
    "# Naive Bayes"
   ]
  },
  {
   "cell_type": "code",
   "execution_count": null,
   "metadata": {},
   "outputs": [],
   "source": [
    "from sklearn.naive_bayes import GaussianNB"
   ]
  },
  {
   "cell_type": "code",
   "execution_count": null,
   "metadata": {},
   "outputs": [
    {
     "name": "stdout",
     "output_type": "stream",
     "text": [
      "0.9354838709677419\n"
     ]
    }
   ],
   "source": [
    "gnb = GaussianNB()\n",
    "gnb = gnb.fit(X_train, y_train)\n",
    "pred = gnb.predict(X_test)\n",
    "print(accuracy_score(pred,y_test))"
   ]
  },
  {
   "cell_type": "code",
   "execution_count": null,
   "metadata": {},
   "outputs": [
    {
     "data": {
      "text/plain": [
       "array([[ 9,  0],\n",
       "       [ 2, 20]], dtype=int64)"
      ]
     },
     "execution_count": 43,
     "metadata": {},
     "output_type": "execute_result"
    }
   ],
   "source": [
    "confusion_matrix(y_test,pred)"
   ]
  },
  {
   "cell_type": "markdown",
   "metadata": {},
   "source": [
    "# Random Forest"
   ]
  },
  {
   "cell_type": "code",
   "execution_count": null,
   "metadata": {},
   "outputs": [],
   "source": [
    "from sklearn.ensemble import RandomForestClassifier"
   ]
  },
  {
   "cell_type": "code",
   "execution_count": null,
   "metadata": {},
   "outputs": [],
   "source": [
    "clfRF = RandomForestClassifier(random_state=0)\n",
    "clfRF.fit(X_train, y_train)\n",
    "predRF = clfRF.predict(X_test)"
   ]
  },
  {
   "cell_type": "code",
   "execution_count": null,
   "metadata": {},
   "outputs": [
    {
     "name": "stdout",
     "output_type": "stream",
     "text": [
      "1.0\n"
     ]
    }
   ],
   "source": [
    "print(accuracy_score(predRF,y_test))"
   ]
  },
  {
   "cell_type": "code",
   "execution_count": null,
   "metadata": {},
   "outputs": [
    {
     "data": {
      "text/plain": [
       "array([[ 9,  0],\n",
       "       [ 0, 22]], dtype=int64)"
      ]
     },
     "execution_count": 47,
     "metadata": {},
     "output_type": "execute_result"
    }
   ],
   "source": [
    "confusion_matrix(y_test,predRF)"
   ]
  },
  {
   "cell_type": "code",
   "execution_count": null,
   "metadata": {},
   "outputs": [],
   "source": []
  },
  {
   "cell_type": "code",
   "execution_count": null,
   "metadata": {},
   "outputs": [],
   "source": []
  },
  {
   "cell_type": "code",
   "execution_count": null,
   "metadata": {},
   "outputs": [],
   "source": []
  }
 ],
 "metadata": {
  "kernelspec": {
   "display_name": "Python 3 (ipykernel)",
   "language": "python",
   "name": "python3"
  },
  "language_info": {
   "codemirror_mode": {
    "name": "ipython",
    "version": 3
   },
   "file_extension": ".py",
   "mimetype": "text/x-python",
   "name": "python",
   "nbconvert_exporter": "python",
   "pygments_lexer": "ipython3",
   "version": "3.9.13"
  },
  "vscode": {
   "interpreter": {
    "hash": "4fb3394fa0e2def50217b962c4de5d206d837593b2666bdbf47f27f26e464f93"
   }
  }
 },
 "nbformat": 4,
 "nbformat_minor": 2
}
